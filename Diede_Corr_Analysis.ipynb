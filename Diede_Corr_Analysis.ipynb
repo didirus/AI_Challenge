{
 "cells": [
  {
   "cell_type": "code",
   "execution_count": 83,
   "metadata": {},
   "outputs": [],
   "source": [
    "import numpy as np\n",
    "import datetime\n",
    "import pandas as pd\n",
    "import matplotlib.pyplot as plt\n",
    "from sklearn.neural_network import MLPRegressor\n",
    "from sklearn.metrics import mean_squared_error, r2_score\n",
    "from sklearn.linear_model import LinearRegression\n",
    "import time"
   ]
  },
  {
   "cell_type": "code",
   "execution_count": 67,
   "metadata": {},
   "outputs": [],
   "source": [
    "glucose_path = \"../data/blood-glucose.csv\"\n",
    "motion_path = \"../data/motion.tsv\"\n",
    "TIMESPAN_H = 48\n",
    "INTERVAL_M = 15\n",
    "WALKING_COLUMN = 2\n",
    "TRAIN_RATIO = 0.7"
   ]
  },
  {
   "cell_type": "code",
   "execution_count": 13,
   "metadata": {},
   "outputs": [],
   "source": [
    "df_glucose = pd.read_csv(glucose_path, header=None)\n",
    "df_motion = pd.read_csv(motion_path, sep='\\t', header=None)\n",
    "\n",
    "df_glucose[0] = df_glucose[0].apply(lambda elem: pd.to_datetime(elem))\n",
    "df_motion[0] = df_motion[0].apply(lambda elem: pd.to_datetime(elem))"
   ]
  },
  {
   "cell_type": "code",
   "execution_count": 14,
   "metadata": {},
   "outputs": [],
   "source": [
    "start_date_motion = df_motion[0].min().floor(str(INTERVAL_M)+'T')\n",
    "start_date_glucose = df_glucose[0].min().floor(str(INTERVAL_M)+'T')\n",
    "\n",
    "end_date_motion = df_motion[0].max()\n",
    "end_date_glucose = df_glucose[0].max()\n",
    "\n",
    "if start_date_motion > start_date_glucose:\n",
    "    start_date = start_date_motion\n",
    "else:\n",
    "    start_date = start_date_glucose\n",
    "if end_date_motion > end_date_glucose:\n",
    "    end_date = end_date_glucose\n",
    "else:\n",
    "    end_date = end_date_motion\n",
    "    \n",
    "all_intervals = pd.date_range(start_date, end_date, freq=str(INTERVAL_M)+'T')\n",
    "nr_of_elems = int(TIMESPAN_H*60/float(INTERVAL_M))"
   ]
  },
  {
   "cell_type": "code",
   "execution_count": 56,
   "metadata": {},
   "outputs": [],
   "source": [
    "def get_motion_hist():\n",
    "    start_time = time.time()\n",
    "    motion_array = np.zeros(shape=(len(all_intervals)-nr_of_elems,))\n",
    "    i = 0\n",
    "    for timestamp in all_intervals:\n",
    "        \n",
    "        t_index = all_intervals.get_loc(timestamp)\n",
    "        if t_index < nr_of_elems:\n",
    "            continue\n",
    "  \n",
    "        \n",
    "\n",
    "        if i%50==0:\n",
    "            print('measurement', i, '/', len(all_intervals)-nr_of_elems, '(', round(time.time()-start_time, 3),'sec. )')\n",
    "            start_time = time.time()\n",
    "\n",
    "        end_interval = timestamp\n",
    "        start_interval = all_intervals[t_index-nr_of_elems]\n",
    "        mask = (df_motion[0] > start_interval) & (df_motion[0] <= end_interval)\n",
    "\n",
    "        # get rows within interval\n",
    "        selected_rows = df_motion.loc[mask]\n",
    "        \n",
    "        time_walking = 0\n",
    "        walking = False\n",
    "        start_walking = None\n",
    "        end_walking = None\n",
    "\n",
    "        for index, row in selected_rows.iterrows():\n",
    "            if row[WALKING_COLUMN] == 1:\n",
    "                start_walking = row[0]\n",
    "                walking = True\n",
    "            elif row[WALKING_COLUMN] == 0 and walking:\n",
    "                end_walking = row[0]\n",
    "                duration = (end_walking-start_walking).total_seconds() / 60. / 60.\n",
    "                time_walking += duration\n",
    "                walking = False\n",
    "        if walking:\n",
    "            duration = (end_interval-start_walking).total_seconds() / 60. / 60.\n",
    "            time_walking += duration\n",
    "\n",
    "        motion_array[i] = time_walking\n",
    "        \n",
    "        i += 1\n",
    "    motion_array = motion_array[:i]\n",
    "    return motion_array"
   ]
  },
  {
   "cell_type": "code",
   "execution_count": 53,
   "metadata": {},
   "outputs": [],
   "source": [
    "def get_glucose_devs():\n",
    "    gluc_array = np.zeros(shape=(len(all_intervals)-nr_of_elems,))\n",
    "    i = 0\n",
    "    for timestamp in all_intervals:\n",
    "\n",
    "        t_index = all_intervals.get_loc(timestamp)\n",
    "        if t_index < nr_of_elems:\n",
    "            continue\n",
    "            \n",
    "        if i%100==0:\n",
    "            print('row', i, '/', len(all_intervals)-nr_of_elems)\n",
    "\n",
    "        end_interval = timestamp\n",
    "        start_interval = all_intervals[t_index-nr_of_elems]\n",
    "        mask = (df_glucose[0] > start_interval) & (df_glucose[0] <= end_interval)\n",
    "\n",
    "        # get rows within interval\n",
    "        selected_rows = df_glucose.loc[mask]\n",
    "        \n",
    "        # Fill in missing values by mean\n",
    "        # selected_rows[1].fillna(selected_rows[1].mean())\n",
    "        \n",
    "        glucose_std_dev = selected_rows[1].std()\n",
    "        gluc_array[i] = glucose_std_dev\n",
    "        \n",
    "        i += 1\n",
    "    gluc_array = gluc_array[:i]\n",
    "    return gluc_array"
   ]
  },
  {
   "cell_type": "code",
   "execution_count": 54,
   "metadata": {
    "scrolled": false
   },
   "outputs": [
    {
     "name": "stdout",
     "output_type": "stream",
     "text": [
      "row 0 / 841\n",
      "row 100 / 841\n",
      "row 200 / 841\n",
      "row 300 / 841\n",
      "row 400 / 841\n",
      "row 500 / 841\n",
      "row 600 / 841\n",
      "row 700 / 841\n",
      "row 800 / 841\n"
     ]
    }
   ],
   "source": [
    "gluc_array = get_glucose_devs()"
   ]
  },
  {
   "cell_type": "code",
   "execution_count": 57,
   "metadata": {
    "scrolled": false
   },
   "outputs": [
    {
     "name": "stdout",
     "output_type": "stream",
     "text": [
      "measurement 0 / 841 ( 0.002 sec. )\n",
      "measurement 50 / 841 ( 10.824 sec. )\n",
      "measurement 100 / 841 ( 11.816 sec. )\n",
      "measurement 150 / 841 ( 12.828 sec. )\n",
      "measurement 200 / 841 ( 12.384 sec. )\n",
      "measurement 250 / 841 ( 10.815 sec. )\n",
      "measurement 300 / 841 ( 10.9 sec. )\n",
      "measurement 350 / 841 ( 8.24 sec. )\n",
      "measurement 400 / 841 ( 7.391 sec. )\n",
      "measurement 450 / 841 ( 6.258 sec. )\n",
      "measurement 500 / 841 ( 4.07 sec. )\n",
      "measurement 550 / 841 ( 4.98 sec. )\n",
      "measurement 600 / 841 ( 5.013 sec. )\n",
      "measurement 650 / 841 ( 6.708 sec. )\n",
      "measurement 700 / 841 ( 7.285 sec. )\n",
      "measurement 750 / 841 ( 7.484 sec. )\n",
      "measurement 800 / 841 ( 8.22 sec. )\n"
     ]
    }
   ],
   "source": [
    "motion_array = get_motion_hist()"
   ]
  },
  {
   "cell_type": "code",
   "execution_count": 65,
   "metadata": {},
   "outputs": [],
   "source": [
    "def unison_shuffled_copies(a, b):\n",
    "    assert len(a) == len(b)\n",
    "    p = np.random.permutation(len(a))\n",
    "    return a[p], b[p]"
   ]
  },
  {
   "cell_type": "code",
   "execution_count": 110,
   "metadata": {},
   "outputs": [
    {
     "name": "stdout",
     "output_type": "stream",
     "text": [
      "[[1.         0.60345071]\n",
      " [0.60345071 1.        ]]\n"
     ]
    },
    {
     "data": {
      "image/png": "[encoded data removed]",
      "text/plain": [
       "<Figure size 432x288 with 1 Axes>"
      ]
     },
     "metadata": {},
     "output_type": "display_data"
    }
   ],
   "source": [
    "x_motion = motion_array[:]\n",
    "x_gluc = gluc_array[:]\n",
    "\n",
    "print(np.corrcoef(x_motion, x_gluc))\n",
    "\n",
    "plt.figure()\n",
    "plt.plot(all_intervals[nr_of_elems:nr_of_elems+len(x_motion)], x_motion)\n",
    "plt.title(\"Motion=Blue, Glucose=Orange\")\n",
    "plt.xlabel(\"t\")\n",
    "plt.plot(all_intervals[nr_of_elems:nr_of_elems+len(x_gluc)], x_gluc)\n",
    "plt.xticks(rotation='vertical')\n",
    "\n",
    "x_motion, x_gluc = unison_shuffled_copies(x_motion, x_gluc)\n",
    "\n",
    "train_motion = x_motion[:int(len(x_motion)*TRAIN_RATIO)]\n",
    "train_motion = np.reshape(train_motion, newshape=(len(train_motion),1))\n",
    "\n",
    "train_gluc = x_gluc[:int(len(x_gluc)*TRAIN_RATIO)]\n",
    "train_gluc = np.reshape(train_gluc, newshape=(len(train_gluc),1))\n",
    "\n",
    "test_motion = x_motion[int(len(x_motion)*TRAIN_RATIO):]\n",
    "test_motion = np.reshape(test_motion, newshape=(len(test_motion),1))\n",
    "\n",
    "test_gluc = x_gluc[int(len(x_gluc)*TRAIN_RATIO):]\n",
    "test_gluc = np.reshape(test_gluc, newshape=(len(test_gluc),1))"
   ]
  },
  {
   "cell_type": "markdown",
   "metadata": {},
   "source": [
    "The two correlate positively with a correlation coefficient of 0.60. "
   ]
  },
  {
   "cell_type": "code",
   "execution_count": 109,
   "metadata": {},
   "outputs": [
    {
     "name": "stdout",
     "output_type": "stream",
     "text": [
      "mean squared error:  2.33\n",
      "variance:  0.35\n"
     ]
    },
    {
     "data": {
      "text/plain": [
       "Text(0,0.5,'Glucose')"
      ]
     },
     "execution_count": 109,
     "metadata": {},
     "output_type": "execute_result"
    },
    {
     "data": {
      "image/png": "[encoded data removed]",
      "text/plain": [
       "<Figure size 432x288 with 1 Axes>"
      ]
     },
     "metadata": {},
     "output_type": "display_data"
    }
   ],
   "source": [
    "model = LinearRegression(normalize=True)\n",
    "model.fit(train_motion, train_gluc)\n",
    "pred_gluc = model.predict(test_motion)\n",
    "print('mean squared error: ', round(mean_squared_error(test_gluc, pred_gluc),2))\n",
    "print('variance: ', round(r2_score(test_gluc, pred_gluc),2))\n",
    "\n",
    "plt.scatter(train_motion, train_gluc,  color='red', linewidth=0.05)\n",
    "plt.scatter(test_motion, test_gluc,  color='black', linewidth=0.05)\n",
    "plt.plot(test_motion, pred_gluc, color='blue', linewidth=2)\n",
    "plt.title(\"Red=Trainset, Black=Testset, Blue=Model\")\n",
    "plt.xlabel(\"Motion (hours of walking last 48h)\")\n",
    "plt.ylabel(\"Glucose (std. dev. )\")"
   ]
  },
  {
   "cell_type": "code",
   "execution_count": null,
   "metadata": {},
   "outputs": [],
   "source": []
  }
 ],
 "metadata": {
  "kernelspec": {
   "display_name": "Python 3",
   "language": "python",
   "name": "python3"
  },
  "language_info": {
   "codemirror_mode": {
    "name": "ipython",
    "version": 3
   },
   "file_extension": ".py",
   "mimetype": "text/x-python",
   "name": "python",
   "nbconvert_exporter": "python",
   "pygments_lexer": "ipython3",
   "version": "3.6.5"
  }
 },
 "nbformat": 4,
 "nbformat_minor": 2
}

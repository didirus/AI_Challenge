{
 "cells": [
  {
   "cell_type": "code",
   "execution_count": 1,
   "metadata": {},
   "outputs": [],
   "source": [
    "import numpy as np\n",
    "import datetime\n",
    "import pandas as pd\n",
    "import csv\n",
    "import matplotlib.pyplot as plt\n",
    "from sklearn.neural_network import MLPRegressor\n",
    "from sklearn.metrics import mean_squared_error"
   ]
  },
  {
   "cell_type": "code",
   "execution_count": 2,
   "metadata": {},
   "outputs": [],
   "source": [
    "glucose_path = \"../data/blood-glucose.csv\"\n",
    "motion_path = \"../data/motion.tsv\"\n",
    "TIMESPAN_H = 48\n",
    "INTERVAL_M = 15\n",
    "WALKING_COLUMN = 2"
   ]
  },
  {
   "cell_type": "code",
   "execution_count": 3,
   "metadata": {},
   "outputs": [],
   "source": [
    "df_glucose = pd.read_csv(glucose_path, header=None)\n",
    "df_motion = pd.read_csv(motion_path, sep='\\t', header=None)\n",
    "\n",
    "df_glucose[0] = df_glucose[0].apply(lambda elem: pd.to_datetime(elem))\n",
    "df_motion[0] = df_motion[0].apply(lambda elem: pd.to_datetime(elem))"
   ]
  },
  {
   "cell_type": "code",
   "execution_count": 4,
   "metadata": {},
   "outputs": [
    {
     "data": {
      "text/html": [
       "<div>\n",
       "<style scoped>\n",
       "    .dataframe tbody tr th:only-of-type {\n",
       "        vertical-align: middle;\n",
       "    }\n",
       "\n",
       "    .dataframe tbody tr th {\n",
       "        vertical-align: top;\n",
       "    }\n",
       "\n",
       "    .dataframe thead th {\n",
       "        text-align: right;\n",
       "    }\n",
       "</style>\n",
       "<table border=\"1\" class=\"dataframe\">\n",
       "  <thead>\n",
       "    <tr style=\"text-align: right;\">\n",
       "      <th></th>\n",
       "      <th>0</th>\n",
       "      <th>1</th>\n",
       "    </tr>\n",
       "  </thead>\n",
       "  <tbody>\n",
       "    <tr>\n",
       "      <th>0</th>\n",
       "      <td>2017-05-23 00:00:00</td>\n",
       "      <td>NaN</td>\n",
       "    </tr>\n",
       "    <tr>\n",
       "      <th>1</th>\n",
       "      <td>2017-05-23 00:15:00</td>\n",
       "      <td>NaN</td>\n",
       "    </tr>\n",
       "    <tr>\n",
       "      <th>2</th>\n",
       "      <td>2017-05-23 00:30:00</td>\n",
       "      <td>NaN</td>\n",
       "    </tr>\n",
       "    <tr>\n",
       "      <th>3</th>\n",
       "      <td>2017-05-23 00:45:00</td>\n",
       "      <td>NaN</td>\n",
       "    </tr>\n",
       "    <tr>\n",
       "      <th>4</th>\n",
       "      <td>2017-05-23 01:00:00</td>\n",
       "      <td>NaN</td>\n",
       "    </tr>\n",
       "  </tbody>\n",
       "</table>\n",
       "</div>"
      ],
      "text/plain": [
       "                    0   1\n",
       "0 2017-05-23 00:00:00 NaN\n",
       "1 2017-05-23 00:15:00 NaN\n",
       "2 2017-05-23 00:30:00 NaN\n",
       "3 2017-05-23 00:45:00 NaN\n",
       "4 2017-05-23 01:00:00 NaN"
      ]
     },
     "execution_count": 4,
     "metadata": {},
     "output_type": "execute_result"
    }
   ],
   "source": [
    "df_glucose.head()"
   ]
  },
  {
   "cell_type": "code",
   "execution_count": 5,
   "metadata": {},
   "outputs": [],
   "source": [
    "start_date_motion = df_motion[0].min().floor(str(INTERVAL_M)+'T')\n",
    "start_date_glucose = df_glucose[0].min().floor(str(INTERVAL_M)+'T')\n",
    "\n",
    "end_date_motion = df_motion[0].max()\n",
    "end_date_glucose = df_glucose[0].max()\n",
    "\n",
    "if start_date_motion > start_date_glucose:\n",
    "    start_date = start_date_motion\n",
    "else:\n",
    "    start_date = start_date_glucose\n",
    "if end_date_motion > end_date_glucose:\n",
    "    end_date = end_date_glucose\n",
    "else:\n",
    "    end_date = end_date_motion\n",
    "    \n",
    "all_intervals = pd.date_range(start_date, end_date, freq=str(INTERVAL_M)+'T')\n",
    "nr_of_elems = int(TIMESPAN_H*60/float(INTERVAL_M))"
   ]
  },
  {
   "cell_type": "code",
   "execution_count": 6,
   "metadata": {},
   "outputs": [],
   "source": [
    "def get_motion_hist():\n",
    "    motion_array = np.zeros(shape=(len(all_intervals)-nr_of_elems,))\n",
    "    i = 0\n",
    "    for timestamp in all_intervals[:500]:\n",
    "        \n",
    "        t_index = all_intervals.get_loc(timestamp)\n",
    "        if t_index+1 < nr_of_elems:\n",
    "            continue\n",
    "  \n",
    "        if i%100==0:\n",
    "            print('measurement', i, '/', len(all_intervals)-nr_of_elems)\n",
    "\n",
    "        end_interval = timestamp\n",
    "        start_interval = all_intervals[t_index-nr_of_elems]\n",
    "        mask = (df_motion[0] > start_interval) & (df_motion[0] <= end_interval)\n",
    "\n",
    "        # get rows within interval\n",
    "        selected_rows = df_motion.loc[mask]\n",
    "        \n",
    "        time_walking = 0\n",
    "        walking = False\n",
    "        start_walking = None\n",
    "        end_walking = None\n",
    "\n",
    "        for index, row in selected_rows.iterrows():\n",
    "            if row[WALKING_COLUMN] == 1:\n",
    "                start_walking = row[0]\n",
    "                walking = True\n",
    "            elif row[WALKING_COLUMN] == 0 and walking:\n",
    "                end_walking = row[0]\n",
    "                duration = (end_walking-start_walking).total_seconds()\n",
    "                time_walking += duration\n",
    "                walking = False\n",
    "        if walking:\n",
    "            duration = (end_interval-start_walking).total_seconds()\n",
    "            time_walking += duration\n",
    "\n",
    "        motion_array[i] = time_walking\n",
    "        \n",
    "        i += 1\n",
    "    motion_array = motion_array[:i]\n",
    "    print('stopped here at i =', i, ', because of resource limits')\n",
    "    return motion_array"
   ]
  },
  {
   "cell_type": "code",
   "execution_count": 10,
   "metadata": {},
   "outputs": [],
   "source": [
    "def get_glucose_devs():\n",
    "    gluc_array = np.zeros(shape=(len(all_intervals)-nr_of_elems,))\n",
    "    i = 0\n",
    "    for timestamp in all_intervals[:500]:\n",
    "\n",
    "        t_index = all_intervals.get_loc(timestamp)\n",
    "        if t_index+1 < nr_of_elems:\n",
    "            continue\n",
    "            \n",
    "        if i%100==0:\n",
    "            print('row', i, '/', len(all_intervals)-nr_of_elems)\n",
    "\n",
    "        end_interval = timestamp\n",
    "        start_interval = all_intervals[t_index-nr_of_elems]\n",
    "        mask = (df_glucose[0] > start_interval) & (df_glucose[0] <= end_interval)\n",
    "\n",
    "        # get rows within interval\n",
    "        selected_rows = df_glucose.loc[mask]\n",
    "        \n",
    "        # Fill in missing values by mean\n",
    "        # selected_rows[1].fillna(selected_rows[1].mean())\n",
    "        \n",
    "        glucose_std_dev = selected_rows[1].std()\n",
    "        gluc_array[i] = glucose_std_dev\n",
    "        \n",
    "        i += 1\n",
    "    gluc_array = gluc_array[:i]\n",
    "    print('stopped here at i =', i, ', because of resource limits')\n",
    "    return gluc_array"
   ]
  },
  {
   "cell_type": "code",
   "execution_count": 11,
   "metadata": {
    "scrolled": false
   },
   "outputs": [
    {
     "name": "stdout",
     "output_type": "stream",
     "text": [
      "row 0 / 841\n",
      "row 100 / 841\n",
      "row 200 / 841\n",
      "row 300 / 841\n",
      "stopped here at i = 309 , because of resource limits\n"
     ]
    }
   ],
   "source": [
    "gluc_array = get_glucose_devs()"
   ]
  },
  {
   "cell_type": "code",
   "execution_count": 9,
   "metadata": {
    "scrolled": false
   },
   "outputs": [
    {
     "name": "stdout",
     "output_type": "stream",
     "text": [
      "measurement 0 / 841\n",
      "measurement 100 / 841\n",
      "measurement 200 / 841\n",
      "measurement 300 / 841\n",
      "stopped here at i = 309 , because of resource limits\n"
     ]
    }
   ],
   "source": [
    "motion_array = get_motion_hist()"
   ]
  },
  {
   "cell_type": "code",
   "execution_count": 12,
   "metadata": {},
   "outputs": [
    {
     "name": "stdout",
     "output_type": "stream",
     "text": [
      "[[1.         0.53675989]\n",
      " [0.53675989 1.        ]]\n"
     ]
    },
    {
     "data": {
      "image/png": "[encoded data removed]",
      "text/plain": [
       "<Figure size 432x288 with 1 Axes>"
      ]
     },
     "metadata": {},
     "output_type": "display_data"
    },
    {
     "data": {
      "image/png": "[encoded data removed]",
      "text/plain": [
       "<Figure size 432x288 with 1 Axes>"
      ]
     },
     "metadata": {},
     "output_type": "display_data"
    }
   ],
   "source": [
    "x_motion = motion_array[10:]\n",
    "x_gluc = gluc_array[10:]\n",
    "\n",
    "print(np.corrcoef(x_motion, x_gluc))\n",
    "\n",
    "plt.figure()\n",
    "plt.plot(all_intervals[nr_of_elems:nr_of_elems+len(x_motion)], x_motion)\n",
    "plt.title(\"Motion\")\n",
    "plt.xlabel(\"t\")\n",
    "plt.figure()\n",
    "plt.plot(all_intervals[nr_of_elems:nr_of_elems+len(x_gluc)], x_gluc)\n",
    "plt.title(\"Glucose\")\n",
    "\n",
    "# I should shuffle actually\n",
    "train_motion = np.reshape(x_motion[:200], newshape=(len(x_motion[:200]),1))\n",
    "train_gluc = np.reshape(x_gluc[:200], newshape=(len(x_gluc[:200]),1))\n",
    "\n",
    "test_motion = np.reshape(x_motion[200:], newshape=(len(x_motion[200:]),1))\n",
    "test_gluc = np.reshape(x_gluc[200:], newshape=(len(x_gluc[200:]),1))"
   ]
  },
  {
   "cell_type": "markdown",
   "metadata": {},
   "source": [
    "The two correlate negatively between timestep 10-100 (-0.60). This is to be expected because low activity level results in a high glucose level.\n",
    "\n",
    "However, a moderate positivel correlation is found over the whole sequence (0.53). This is not expected."
   ]
  },
  {
   "cell_type": "code",
   "execution_count": 13,
   "metadata": {},
   "outputs": [
    {
     "name": "stdout",
     "output_type": "stream",
     "text": [
      "mean squared error:  0.9519497398521822\n"
     ]
    },
    {
     "name": "stderr",
     "output_type": "stream",
     "text": [
      "/anaconda3/lib/python3.6/site-packages/sklearn/neural_network/multilayer_perceptron.py:1306: DataConversionWarning: A column-vector y was passed when a 1d array was expected. Please change the shape of y to (n_samples, ), for example using ravel().\n",
      "  y = column_or_1d(y, warn=True)\n"
     ]
    }
   ],
   "source": [
    "model = MLPRegressor(solver='lbfgs', alpha=1e-5, hidden_layer_sizes=(5), random_state=1)\n",
    "model.fit(train_motion, train_gluc)\n",
    "pred_gluc = model.predict(test_motion)\n",
    "print('mean squared error: ', mean_squared_error(test_gluc, pred_gluc))"
   ]
  },
  {
   "cell_type": "code",
   "execution_count": null,
   "metadata": {},
   "outputs": [],
   "source": []
  }
 ],
 "metadata": {
  "kernelspec": {
   "display_name": "Python 3",
   "language": "python",
   "name": "python3"
  },
  "language_info": {
   "codemirror_mode": {
    "name": "ipython",
    "version": 3
   },
   "file_extension": ".py",
   "mimetype": "text/x-python",
   "name": "python",
   "nbconvert_exporter": "python",
   "pygments_lexer": "ipython3",
   "version": "3.6.5"
  }
 },
 "nbformat": 4,
 "nbformat_minor": 2
}
